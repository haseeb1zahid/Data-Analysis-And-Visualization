{
 "cells": [
  {
   "cell_type": "code",
   "execution_count": 1,
   "metadata": {},
   "outputs": [
    {
     "name": "stdout",
     "output_type": "stream",
     "text": [
      "               percent_change_24h  percent_change_7d\n",
      "id                                                  \n",
      "flappycoin                 -95.85             -96.61\n",
      "credence-coin              -94.22             -95.31\n",
      "coupecoin                  -93.93             -61.24\n",
      "tyrocoin                   -79.02             -87.43\n",
      "petrodollar                -76.55             542.96\n"
     ]
    }
   ],
   "source": [
    "import pandas as pd\n",
    "\n",
    "myfile = pd.read_csv(\"C:/Users/Admin/PycharmProjects/Panacloud_Bootcamp/coinmarketcap_06122017.csv\")\n",
    "market_cap_raw = myfile[['id', 'percent_change_24h', 'percent_change_7d']]\n",
    "market_cap_raw = market_cap_raw.set_index('id')\n",
    "market_cap_raw = market_cap_raw.dropna()\n",
    "market_cap_raw = market_cap_raw.sort_values(by='percent_change_24h')\n",
    "print(market_cap_raw.head())\n"
   ]
  },
  {
   "cell_type": "code",
   "execution_count": null,
   "metadata": {
    "collapsed": true
   },
   "outputs": [],
   "source": []
  }
 ],
 "metadata": {
  "kernelspec": {
   "display_name": "Python 3",
   "language": "python",
   "name": "python3"
  },
  "language_info": {
   "codemirror_mode": {
    "name": "ipython",
    "version": 3
   },
   "file_extension": ".py",
   "mimetype": "text/x-python",
   "name": "python",
   "nbconvert_exporter": "python",
   "pygments_lexer": "ipython3",
   "version": "3.6.3"
  }
 },
 "nbformat": 4,
 "nbformat_minor": 2
}
