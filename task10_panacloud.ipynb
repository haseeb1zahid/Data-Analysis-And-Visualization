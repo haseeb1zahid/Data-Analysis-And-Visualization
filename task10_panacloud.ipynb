{
 "cells": [
  {
   "cell_type": "code",
   "execution_count": 1,
   "metadata": {},
   "outputs": [
    {
     "name": "stdout",
     "output_type": "stream",
     "text": [
      "biggest 4\n",
      "micro 25\n",
      "nano 145\n"
     ]
    },
    {
     "data": {
      "image/png": "[encoded data removed]",
      "text/plain": [
       "<matplotlib.figure.Figure at 0x2bde816eb70>"
      ]
     },
     "metadata": {},
     "output_type": "display_data"
    }
   ],
   "source": [
    "import pandas as pd\n",
    "import matplotlib.pyplot as plt\n",
    "\n",
    "\n",
    "myfile = pd.read_csv(\"C:/Users/Admin/PycharmProjects/Panacloud_Bootcamp/coinmarketcap_06122017.csv\").dropna()\n",
    "cap = myfile[['id', 'market_cap_usd']]\n",
    "cap = cap.dropna()\n",
    "\n",
    "def cap_count(from_vol, to_vol):\n",
    "    if to_vol > from_vol:\n",
    "        return len(cap[(cap['market_cap_usd'] >= from_vol) & (cap['market_cap_usd'] < to_vol)])\n",
    "\n",
    "biggest = cap_count(300000000, 500000000)\n",
    "micro = cap_count(50000000, 300000000)\n",
    "nano = cap_count(0, 50000000)\n",
    "print('biggest',biggest)\n",
    "print('micro',micro)\n",
    "print('nano',nano)\n",
    "\n",
    "LABELS = [\"biggish\", \"micro\", \"nano\"]\n",
    "plt.bar(LABELS, [nano, micro, biggest])\n",
    "plt.show()"
   ]
  },
  {
   "cell_type": "code",
   "execution_count": null,
   "metadata": {
    "collapsed": true
   },
   "outputs": [],
   "source": []
  }
 ],
 "metadata": {
  "kernelspec": {
   "display_name": "Python 3",
   "language": "python",
   "name": "python3"
  },
  "language_info": {
   "codemirror_mode": {
    "name": "ipython",
    "version": 3
   },
   "file_extension": ".py",
   "mimetype": "text/x-python",
   "name": "python",
   "nbconvert_exporter": "python",
   "pygments_lexer": "ipython3",
   "version": "3.6.3"
  }
 },
 "nbformat": 4,
 "nbformat_minor": 2
}
