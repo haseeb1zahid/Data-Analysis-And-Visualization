{
 "cells": [
  {
   "cell_type": "code",
   "execution_count": 1,
   "metadata": {},
   "outputs": [
    {
     "name": "stdout",
     "output_type": "stream",
     "text": [
      "      market_cap_usd                       id\n",
      "0       2.130493e+11                  bitcoin\n",
      "1       4.352945e+10                 ethereum\n",
      "2       2.529585e+10             bitcoin-cash\n",
      "3       1.475225e+10                     iota\n",
      "4       9.365343e+09                   ripple\n",
      "5       5.794076e+09                     dash\n",
      "6       5.634498e+09                 litecoin\n",
      "7       4.920065e+09             bitcoin-gold\n",
      "8       4.331688e+09                   monero\n",
      "9       3.231420e+09                  cardano\n",
      "10      2.866555e+09         ethereum-classic\n",
      "11      2.583927e+09                      nem\n",
      "12      2.567610e+09                      eos\n",
      "13      2.452898e+09                      neo\n",
      "14      2.407074e+09                  stellar\n",
      "15      1.119571e+09                 monacoin\n",
      "16      1.106525e+09               bitconnect\n",
      "17      1.046840e+09                     lisk\n",
      "18      9.802597e+08                    zcash\n",
      "19      9.578316e+08                  omisego\n",
      "20      9.147999e+08                     qtum\n",
      "21      8.150593e+08                   tether\n",
      "22      7.063190e+08                    waves\n",
      "23      6.959148e+08                  stratis\n",
      "24      6.535758e+08                 populous\n",
      "25      6.510596e+08                   hshare\n",
      "26      5.454317e+08                    ardor\n",
      "27      4.771547e+08                bitshares\n",
      "28      4.182505e+08             bytecoin-bcn\n",
      "29      4.163431e+08                      ark\n",
      "...              ...                      ...\n",
      "1001    1.349200e+04               selfiecoin\n",
      "1002    1.322100e+04                   p7coin\n",
      "1003    1.292800e+04              gbcgoldcoin\n",
      "1004    1.244400e+04                      das\n",
      "1005    1.226600e+04                 rsgpcoin\n",
      "1006    1.134600e+04                  bitvolt\n",
      "1007    9.672000e+03     morningstar-payments\n",
      "1008    9.530000e+03          socialcoin-socc\n",
      "1009    9.382000e+03                 frazcoin\n",
      "1010    8.400000e+03                 nodecoin\n",
      "1011    6.705000e+03                  concoin\n",
      "1012    5.865000e+03               burstocean\n",
      "1013    5.277000e+03                  ccminer\n",
      "1014    4.896000e+03                project-x\n",
      "1015    4.256000e+03     wallet-builders-coin\n",
      "1016    3.900000e+03                  lex4all\n",
      "1017    3.643000e+03            ebittree-coin\n",
      "1018    3.514000e+03                  sojourn\n",
      "1019    2.931000e+03                pizzacoin\n",
      "1020    2.303000e+03                   enigma\n",
      "1021    2.302000e+03                  ulatech\n",
      "1022    2.288000e+03                swaptoken\n",
      "1023    2.187000e+03          digital-credits\n",
      "1024    5.150000e+02       digital-money-bits\n",
      "1025    5.140000e+02               mantracoin\n",
      "1026    2.510000e+02  future-digital-currency\n",
      "1027    1.360000e+02                  environ\n",
      "1028    1.000000e+02               caliphcoin\n",
      "1029    2.300000e+01                  falcoin\n",
      "1030    1.000000e+01            applecoin-apw\n",
      "\n",
      "[1031 rows x 2 columns]\n"
     ]
    }
   ],
   "source": [
    "import pandas as pd\n",
    "\n",
    "myfile = pd.read_csv(\"C:/Users/Admin/PycharmProjects/Panacloud_Bootcamp/coinmarketcap_06122017.csv\")\n",
    "market_cap_raw = myfile[['market_cap_usd', 'id']]\n",
    "cap = market_cap_raw.query('market_cap_usd > 0')\n",
    "print(cap)\n"
   ]
  },
  {
   "cell_type": "code",
   "execution_count": null,
   "metadata": {
    "collapsed": true
   },
   "outputs": [],
   "source": []
  }
 ],
 "metadata": {
  "kernelspec": {
   "display_name": "Python 3",
   "language": "python",
   "name": "python3"
  },
  "language_info": {
   "codemirror_mode": {
    "name": "ipython",
    "version": 3
   },
   "file_extension": ".py",
   "mimetype": "text/x-python",
   "name": "python",
   "nbconvert_exporter": "python",
   "pygments_lexer": "ipython3",
   "version": "3.6.3"
  }
 },
 "nbformat": 4,
 "nbformat_minor": 2
}
