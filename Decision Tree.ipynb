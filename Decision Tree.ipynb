{
  "nbformat": 4,
  "nbformat_minor": 0,
  "metadata": {
    "colab": {
      "name": "Untitled13.ipynb",
      "version": "0.3.2",
      "provenance": [],
      "include_colab_link": true
    },
    "kernelspec": {
      "name": "python3",
      "display_name": "Python 3"
    }
  },
  "cells": [
    {
      "cell_type": "markdown",
      "metadata": {
        "id": "view-in-github",
        "colab_type": "text"
      },
      "source": [
        "<a href=\"https://colab.research.google.com/github/haseeb1zahid/Data-Analysis-And-Visualization/blob/master/Decision%20Tree.ipynb\" target=\"_parent\"><img src=\"https://colab.research.google.com/assets/colab-badge.svg\" alt=\"Open In Colab\"/></a>"
      ]
    },
    {
      "metadata": {
        "id": "mvjCIqRT04ld",
        "colab_type": "code",
        "colab": {}
      },
      "cell_type": "code",
      "source": [
        "from sklearn.tree import DecisionTreeClassifier\n",
        "from sklearn import preprocessing\n",
        "import numpy as np"
      ],
      "execution_count": 0,
      "outputs": []
    },
    {
      "metadata": {
        "id": "SK9tQIYk0961",
        "colab_type": "code",
        "colab": {
          "base_uri": "https://localhost:8080/",
          "height": 119
        },
        "outputId": "0386568b-4029-47cc-9830-2d40bd7a3219"
      },
      "cell_type": "code",
      "source": [
        "le = preprocessing.LabelEncoder()\n",
        "clf = DecisionTreeClassifier()\n",
        "\n",
        "training = np.array([\n",
        "    [3, \"yes\", 62, \"accept\"],\n",
        "    [4, \"yes\", 70, \"accept\"],\n",
        "    [2, \"yes\", 71, \"reject\"],\n",
        "    [5, \"yes\", 58, \"reject\"],\n",
        "    [1, \"no\", 76, \"reject\"],\n",
        "    [6, \"no\", 64, \"reject\"],\n",
        "    [2, \"yes\", 74, \"reject\"],\n",
        "    [3, \"yes\", 75, \"accept\"],\n",
        "    [4, \"yes\", 67, \"accept\"],\n",
        "    [2, \"no\", 73, \"reject\"],\n",
        "])\n",
        "\n",
        "training[:,1] = le.fit_transform(training[:,1]) \n",
        "\n",
        "\n",
        "X = training[:,:-1]\n",
        "y = training[:,-1]\n",
        "\n",
        "clf.fit(X,y)"
      ],
      "execution_count": 2,
      "outputs": [
        {
          "output_type": "execute_result",
          "data": {
            "text/plain": [
              "DecisionTreeClassifier(class_weight=None, criterion='gini', max_depth=None,\n",
              "            max_features=None, max_leaf_nodes=None,\n",
              "            min_impurity_decrease=0.0, min_impurity_split=None,\n",
              "            min_samples_leaf=1, min_samples_split=2,\n",
              "            min_weight_fraction_leaf=0.0, presort=False, random_state=None,\n",
              "            splitter='best')"
            ]
          },
          "metadata": {
            "tags": []
          },
          "execution_count": 2
        }
      ]
    },
    {
      "metadata": {
        "id": "xFJyDjf01FjP",
        "colab_type": "code",
        "colab": {
          "base_uri": "https://localhost:8080/",
          "height": 34
        },
        "outputId": "e416c6ff-b7c4-4082-a5d5-5acf4554bf63"
      },
      "cell_type": "code",
      "source": [
        "# test data\n",
        "test = np.array([\n",
        "\t[3, \"yes\", 63],\n",
        "\t[1, \"no\", 59],\n",
        "\t])\n",
        "test[:,1] = le.transform(test[:,1])\n",
        "\n",
        "print(clf.predict(test))"
      ],
      "execution_count": 3,
      "outputs": [
        {
          "output_type": "stream",
          "text": [
            "['accept' 'reject']\n"
          ],
          "name": "stdout"
        }
      ]
    }
  ]
}